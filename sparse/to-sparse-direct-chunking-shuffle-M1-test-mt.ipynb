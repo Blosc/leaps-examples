{
 "cells": [
  {
   "cell_type": "markdown",
   "id": "3141ebd8-380c-4fac-9a51-27fbf6292fc0",
   "metadata": {},
   "source": [
    "# Convert a HDF5 compressed dataset to sparse matrices\n",
    "\n",
    "This notebook presents different ways to convert a stack of images stored as a HDF5 dataset to a stack of sparse matrices.\n",
    "\n",
    "Notebook license: [CC-0](https://creativecommons.org/public-domain/cc0/)"
   ]
  },
  {
   "cell_type": "code",
   "execution_count": 1,
   "id": "a6020b15-3854-4d2d-bb14-9ec6704dcff2",
   "metadata": {
    "ExecuteTime": {
     "end_time": "2024-03-15T08:08:02.921219Z",
     "start_time": "2024-03-15T08:08:02.917281Z"
    }
   },
   "outputs": [],
   "source": [
    "# Enable multithreading\n",
    "import os\n",
    "\n",
    "os.environ[\"OMP_NUM_THREADS\"] = \"4\"\n",
    "os.environ[\"BLOSC_NTHREADS\"] = \"4\""
   ]
  },
  {
   "cell_type": "code",
   "execution_count": 2,
   "id": "d9d6510a-efcd-4dea-856a-c8599548c141",
   "metadata": {
    "ExecuteTime": {
     "end_time": "2024-03-15T08:08:02.953300Z",
     "start_time": "2024-03-15T08:08:02.951139Z"
    }
   },
   "outputs": [],
   "source": [
    "import b2h5py\n",
    "import blosc2\n",
    "import bslz4_to_sparse\n",
    "import h5py\n",
    "from hdf5plugin import Bitshuffle, Blosc2\n",
    "import numpy as np"
   ]
  },
  {
   "cell_type": "markdown",
   "id": "abfabbd1-3e8c-421c-9cc5-9b928a6469b1",
   "metadata": {},
   "source": [
    "## Prepare the datasets\n",
    "\n",
    "Download data (credits ID11@ESRF) and create datasets with different compressions."
   ]
  },
  {
   "cell_type": "code",
   "execution_count": 3,
   "id": "23f7c441-351f-43d4-8df3-5dc601ac6896",
   "metadata": {
    "ExecuteTime": {
     "end_time": "2024-03-15T08:08:02.956861Z",
     "start_time": "2024-03-15T08:08:02.954529Z"
    }
   },
   "outputs": [],
   "source": [
    "if not os.path.exists(\"sparse_image_stack.h5\"):\n",
    "    !wget http://www.silx.org/pub/leaps-innov/sparse_image_stack.h5"
   ]
  },
  {
   "cell_type": "code",
   "execution_count": 4,
   "id": "34010312-41e1-4b5c-8cc2-53bf3a6f674d",
   "metadata": {
    "ExecuteTime": {
     "end_time": "2024-03-15T08:08:05.179041Z",
     "start_time": "2024-03-15T08:08:02.958019Z"
    }
   },
   "outputs": [],
   "source": [
    "if True or not os.path.exists(\"sparse_images_shuffle_dc_test.h5\"):\n",
    "    with h5py.File(\"sparse_image_stack.h5\", \"r\") as h5f:\n",
    "        data = h5f[\"entry_0000/measurement/data\"][:10]\n",
    "\n",
    "    chunk_shape = (1,) + data.shape[1:]\n",
    "\n",
    "    with h5py.File(\"sparse_images_shuffle_dc_test.h5\", \"w\") as h5f:\n",
    "        h5f.create_dataset(\n",
    "            \"bslz4\",\n",
    "            data=data,\n",
    "            chunks=chunk_shape,\n",
    "            compression=Bitshuffle(),\n",
    "        )\n",
    "        h5f.create_dataset(\n",
    "            \"bszstd\",\n",
    "            data=data,\n",
    "            chunks=chunk_shape,\n",
    "            compression=Bitshuffle(cname=\"zstd\"),\n",
    "        )\n",
    "        blosc2_blosclz_dataset = h5f.create_dataset(\n",
    "            \"blosc2_blosclz\",\n",
    "            # data=data,\n",
    "            shape=data.shape,\n",
    "            dtype=data.dtype,\n",
    "            chunks=chunk_shape,\n",
    "            compression=Blosc2(cname=\"blosclz\", filters=Blosc2.SHUFFLE),\n",
    "        )\n",
    "        blosc2_lz4_dataset = h5f.create_dataset(\n",
    "            \"blosc2_lz4\",\n",
    "            # data=data,\n",
    "            shape=data.shape,\n",
    "            dtype=data.dtype,\n",
    "            chunks=chunk_shape,\n",
    "            compression=Blosc2(cname=\"lz4\", filters=Blosc2.SHUFFLE),\n",
    "        )\n",
    "        blosc2_zstd_dataset = h5f.create_dataset(\n",
    "            \"blosc2_zstd\",\n",
    "            #data=data,\n",
    "            shape=data.shape,\n",
    "            dtype=data.dtype,\n",
    "            chunks=chunk_shape,\n",
    "            compression=Blosc2(cname=\"zstd\", filters=Blosc2.SHUFFLE),\n",
    "        )\n",
    "        cpblosclz = dict(clevel=9, filters=[blosc2.Filter.SHUFFLE], codec=blosc2.Codec.BLOSCLZ)\n",
    "        cplz4 = dict(clevel=9, filters=[blosc2.Filter.SHUFFLE], codec=blosc2.Codec.LZ4)\n",
    "        cpzstd = dict(clevel=8, filters=[blosc2.Filter.SHUFFLE], codec=blosc2.Codec.ZSTD)\n",
    "        # chunks = (1,) + (2162 // 2, 2068 // 4)\n",
    "        # blocks = (1,) + (256, 256 // 2)\n",
    "        chunks = (1,) + (2162 // 2, 2068 // 4)\n",
    "        blocks = (1,) + (256, 256 // 2)\n",
    "        for i in range(data.shape[0]):\n",
    "            im = data[i:i+1, ...]\n",
    "            # Transform the numpy array to a blosc2 array. This is where compression happens.\n",
    "            b2im_blosclz = blosc2.asarray(im, chunks=chunks, blocks=blocks, cparams=cpblosclz)\n",
    "            b2im_lz4 = blosc2.asarray(im, chunks=chunks, blocks=blocks, cparams=cplz4)\n",
    "            b2im_zstd = blosc2.asarray(im, chunks=chunks, blocks=blocks, cparams=cpzstd)\n",
    "            blosc2_blosclz_dataset.id.write_direct_chunk((i, 0, 0), b2im_blosclz.schunk.to_cframe())\n",
    "            blosc2_lz4_dataset.id.write_direct_chunk((i, 0, 0), b2im_lz4.schunk.to_cframe())\n",
    "            blosc2_zstd_dataset.id.write_direct_chunk((i, 0, 0), b2im_zstd.schunk.to_cframe())\n",
    "        \n",
    "    del data"
   ]
  },
  {
   "cell_type": "markdown",
   "id": "dd9b1e00-2074-4b1e-a3e5-e06b7144a948",
   "metadata": {},
   "source": [
    "## Benchmark reading data\n",
    "\n",
    "Compare different ways to read data from a HDf5 compressed dataset.\n",
    "\n",
    "The test is done on the first frame of a 3D dataset"
   ]
  },
  {
   "cell_type": "code",
   "execution_count": 5,
   "id": "5f0bccb6-a34c-42c6-8260-bb6a8b959b9a",
   "metadata": {
    "ExecuteTime": {
     "end_time": "2024-03-15T08:08:05.183210Z",
     "start_time": "2024-03-15T08:08:05.180504Z"
    }
   },
   "outputs": [],
   "source": [
    "h5f = h5py.File(\"sparse_images_shuffle_dc_test.h5\", \"r\")\n",
    "bslz4_dataset = h5f[\"bslz4\"]\n",
    "bszstd_dataset = h5f[\"bszstd\"]\n",
    "blosc2_blosclz_dataset = h5f[\"blosc2_blosclz\"]\n",
    "blosc2_lz4_dataset = h5f[\"blosc2_lz4\"]\n",
    "blosc2_zstd_dataset = h5f[\"blosc2_zstd\"]"
   ]
  },
  {
   "cell_type": "code",
   "execution_count": 6,
   "id": "d347a521f2ba2488",
   "metadata": {
    "ExecuteTime": {
     "end_time": "2024-03-15T08:08:05.186316Z",
     "start_time": "2024-03-15T08:08:05.183716Z"
    },
    "collapsed": false,
    "jupyter": {
     "outputs_hidden": false
    }
   },
   "outputs": [
    {
     "name": "stdout",
     "output_type": "stream",
     "text": [
      "type    : NDArray\n",
      "shape   : (1, 2162, 2068)\n",
      "chunks  : (1, 1081, 517)\n",
      "blocks  : (1, 256, 128)\n",
      "dtype   : uint32\n",
      "cratio  : 1071.51\n",
      "cparams : {'blocksize': 131072,\n",
      " 'clevel': 8,\n",
      " 'codec': <Codec.ZSTD: 5>,\n",
      " 'codec_meta': 0,\n",
      " 'filters': [<Filter.SHUFFLE: 1>,\n",
      "             <Filter.NOFILTER: 0>,\n",
      "             <Filter.NOFILTER: 0>,\n",
      "             <Filter.NOFILTER: 0>,\n",
      "             <Filter.NOFILTER: 0>,\n",
      "             <Filter.NOFILTER: 0>],\n",
      " 'filters_meta': [0, 0, 0, 0, 0, 0],\n",
      " 'nthreads': 16,\n",
      " 'splitmode': <SplitMode.ALWAYS_SPLIT: 1>,\n",
      " 'typesize': 4,\n",
      " 'use_dict': 0}\n",
      "dparams : {'nthreads': 16}\n",
      "\n"
     ]
    }
   ],
   "source": [
    "h5_chunk_info = blosc2_zstd_dataset.id.get_chunk_info(0)\n",
    "b2_schunk = blosc2.schunk.open(\n",
    "    blosc2_zstd_dataset.file.filename,\n",
    "    mode='r',\n",
    "    offset=h5_chunk_info.byte_offset,\n",
    ")\n",
    "print(b2_schunk.info)"
   ]
  },
  {
   "cell_type": "markdown",
   "id": "c13d72ec-3036-4731-94ae-e0996891099e",
   "metadata": {},
   "source": [
    "Compressed size of first frame"
   ]
  },
  {
   "cell_type": "code",
   "execution_count": 7,
   "id": "5514f701-4bf4-4b69-83ff-a090734ee76f",
   "metadata": {
    "ExecuteTime": {
     "end_time": "2024-03-15T08:08:05.189989Z",
     "start_time": "2024-03-15T08:08:05.186943Z"
    }
   },
   "outputs": [
    {
     "name": "stdout",
     "output_type": "stream",
     "text": [
      "bslz4_nbytes=183882\n",
      "bszstd_nbytes=111675\n",
      "blosc2_blosclz_nbytes=66378\n",
      "blosc2_lz4_nbytes=70064\n",
      "blosc2_zstd_nbytes=24780\n"
     ]
    }
   ],
   "source": [
    "bslz4_nbytes = len(bslz4_dataset.id.read_direct_chunk((0, 0, 0))[1])\n",
    "bszstd_nbytes = len(bszstd_dataset.id.read_direct_chunk((0, 0, 0))[1])\n",
    "blosc2_blosclz_nbytes = len(blosc2_blosclz_dataset.id.read_direct_chunk((0, 0, 0))[1])\n",
    "blosc2_lz4_nbytes = len(blosc2_lz4_dataset.id.read_direct_chunk((0, 0, 0))[1])\n",
    "blosc2_zstd_nbytes = len(blosc2_zstd_dataset.id.read_direct_chunk((0, 0, 0))[1])\n",
    "print(f\"{bslz4_nbytes=}\\n{bszstd_nbytes=}\\n{blosc2_blosclz_nbytes=}\\n{blosc2_lz4_nbytes=}\\n{blosc2_zstd_nbytes=}\")"
   ]
  },
  {
   "cell_type": "markdown",
   "id": "bc51b130-a721-480d-85c9-7c20985c7242",
   "metadata": {},
   "source": [
    "* **With hdf5plugin**: Decompression is performed by the HDF5 filters"
   ]
  },
  {
   "cell_type": "code",
   "execution_count": 8,
   "id": "b212d81e-c48e-48a6-8147-face04e78a9b",
   "metadata": {
    "ExecuteTime": {
     "end_time": "2024-03-15T08:08:10.529893Z",
     "start_time": "2024-03-15T08:08:05.190738Z"
    }
   },
   "outputs": [
    {
     "name": "stdout",
     "output_type": "stream",
     "text": [
      "3.05 ms ± 509 µs per loop (mean ± std. dev. of 7 runs, 100 loops each)\n"
     ]
    }
   ],
   "source": [
    "%timeit blosc2_blosclz_dataset[0]"
   ]
  },
  {
   "cell_type": "code",
   "execution_count": 9,
   "id": "d31fe47758bab459",
   "metadata": {
    "ExecuteTime": {
     "end_time": "2024-03-15T08:08:16.650107Z",
     "start_time": "2024-03-15T08:08:10.530577Z"
    },
    "collapsed": false,
    "jupyter": {
     "outputs_hidden": false
    }
   },
   "outputs": [
    {
     "name": "stdout",
     "output_type": "stream",
     "text": [
      "2.78 ms ± 611 µs per loop (mean ± std. dev. of 7 runs, 100 loops each)\n"
     ]
    }
   ],
   "source": [
    "%timeit blosc2_lz4_dataset[0]"
   ]
  },
  {
   "cell_type": "code",
   "execution_count": 10,
   "id": "0f854045-2fbb-4c5c-923e-4137c337fcab",
   "metadata": {
    "ExecuteTime": {
     "end_time": "2024-03-15T08:08:23.138930Z",
     "start_time": "2024-03-15T08:08:16.651781Z"
    }
   },
   "outputs": [
    {
     "name": "stdout",
     "output_type": "stream",
     "text": [
      "2.43 ms ± 4.01 µs per loop (mean ± std. dev. of 7 runs, 100 loops each)\n"
     ]
    }
   ],
   "source": [
    "%timeit blosc2_zstd_dataset[0]"
   ]
  },
  {
   "cell_type": "code",
   "execution_count": 11,
   "id": "4a489b36dc1f5848",
   "metadata": {
    "ExecuteTime": {
     "end_time": "2024-03-15T08:08:23.141787Z",
     "start_time": "2024-03-15T08:08:23.139680Z"
    },
    "collapsed": false,
    "jupyter": {
     "outputs_hidden": false
    }
   },
   "outputs": [],
   "source": [
    "def array_to_sparse(array: np.ndarray) -> tuple[np.ndarray, np.ndarray]:\n",
    "    \"\"\"Convert an array to sparse representation\"\"\"\n",
    "    array = np.ravel(array)\n",
    "    indices = np.nonzero(array)[0]\n",
    "    values = array[indices]\n",
    "    return values, indices"
   ]
  },
  {
   "cell_type": "code",
   "execution_count": 12,
   "id": "b4cc66b2e31c88ac",
   "metadata": {
    "ExecuteTime": {
     "end_time": "2024-03-15T08:08:23.144935Z",
     "start_time": "2024-03-15T08:08:23.142366Z"
    },
    "collapsed": false,
    "jupyter": {
     "outputs_hidden": false
    }
   },
   "outputs": [],
   "source": [
    "def read_blosc2_h5_chunk(dataset: h5py.Dataset, chunk_index: int):\n",
    "    h5_chunk_info = dataset.id.get_chunk_info(chunk_index)\n",
    "    b2_schunk = blosc2.schunk.open(\n",
    "        dataset.file.filename,\n",
    "        mode='r',\n",
    "        offset=h5_chunk_info.byte_offset,\n",
    "    )\n",
    "    return b2_schunk[:].view(dtype=dataset.dtype)"
   ]
  },
  {
   "cell_type": "code",
   "execution_count": 13,
   "id": "2f561125598b959b",
   "metadata": {
    "ExecuteTime": {
     "end_time": "2024-03-15T08:08:33.978841Z",
     "start_time": "2024-03-15T08:08:23.145587Z"
    },
    "collapsed": false,
    "jupyter": {
     "outputs_hidden": false
    }
   },
   "outputs": [
    {
     "name": "stdout",
     "output_type": "stream",
     "text": [
      "5.94 ms ± 7.58 µs per loop (mean ± std. dev. of 7 runs, 100 loops each)\n"
     ]
    }
   ],
   "source": [
    "%timeit array_to_sparse(read_blosc2_h5_chunk(blosc2_blosclz_dataset, 0))"
   ]
  },
  {
   "cell_type": "code",
   "execution_count": 14,
   "id": "656d0522-abde-4493-b902-bd0c322ac641",
   "metadata": {
    "ExecuteTime": {
     "end_time": "2024-03-15T08:08:33.978841Z",
     "start_time": "2024-03-15T08:08:23.145587Z"
    },
    "collapsed": false,
    "jupyter": {
     "outputs_hidden": false
    }
   },
   "outputs": [
    {
     "name": "stdout",
     "output_type": "stream",
     "text": [
      "6.01 ms ± 32.8 µs per loop (mean ± std. dev. of 7 runs, 100 loops each)\n"
     ]
    }
   ],
   "source": [
    "%timeit array_to_sparse(read_blosc2_h5_chunk(blosc2_lz4_dataset, 0))"
   ]
  },
  {
   "cell_type": "code",
   "execution_count": 15,
   "id": "48d439b1-6161-4e75-9931-47577605e434",
   "metadata": {
    "ExecuteTime": {
     "end_time": "2024-03-15T08:08:33.978841Z",
     "start_time": "2024-03-15T08:08:23.145587Z"
    },
    "collapsed": false,
    "jupyter": {
     "outputs_hidden": false
    }
   },
   "outputs": [
    {
     "name": "stdout",
     "output_type": "stream",
     "text": [
      "6.05 ms ± 8.47 µs per loop (mean ± std. dev. of 7 runs, 100 loops each)\n"
     ]
    }
   ],
   "source": [
    "%timeit array_to_sparse(read_blosc2_h5_chunk(blosc2_zstd_dataset, 0))"
   ]
  },
  {
   "cell_type": "markdown",
   "id": "fb673930-b6df-4f5c-94aa-8e6d9ab933d8",
   "metadata": {},
   "source": [
    "* **With bslz4_to_sparse** for bitshuffle+LZ4 compressed dataset"
   ]
  },
  {
   "cell_type": "code",
   "execution_count": 16,
   "id": "f1450573-cea5-485e-9491-d47321278283",
   "metadata": {},
   "outputs": [
    {
     "name": "stdout",
     "output_type": "stream",
     "text": [
      "4.16 ms ± 3.01 µs per loop (mean ± std. dev. of 7 runs, 100 loops each)\n"
     ]
    }
   ],
   "source": [
    "%timeit bslz4_to_sparse.bslz4_to_sparse(bslz4_dataset, 0, 0)"
   ]
  },
  {
   "cell_type": "code",
   "execution_count": 17,
   "id": "f9853ed96d983788",
   "metadata": {
    "ExecuteTime": {
     "end_time": "2024-03-15T08:08:33.981940Z",
     "start_time": "2024-03-15T08:08:33.979654Z"
    },
    "collapsed": false,
    "jupyter": {
     "outputs_hidden": false
    }
   },
   "outputs": [],
   "source": [
    "h5f.close()"
   ]
  }
 ],
 "metadata": {
  "kernelspec": {
   "display_name": "Python 3 (ipykernel)",
   "language": "python",
   "name": "python3"
  },
  "language_info": {
   "codemirror_mode": {
    "name": "ipython",
    "version": 3
   },
   "file_extension": ".py",
   "mimetype": "text/x-python",
   "name": "python",
   "nbconvert_exporter": "python",
   "pygments_lexer": "ipython3",
   "version": "3.11.7"
  }
 },
 "nbformat": 4,
 "nbformat_minor": 5
}
